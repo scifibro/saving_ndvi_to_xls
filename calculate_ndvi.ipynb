{
 "cells": [
  {
   "cell_type": "code",
   "execution_count": 1,
   "id": "40141c25",
   "metadata": {},
   "outputs": [],
   "source": [
    "# Import the Python 3 print function\n",
    "from __future__ import print_function\n",
    "import pandas as pd\n",
    "import numpy as np\n",
    "from osgeo import gdal\n",
    "from osgeo import gdal_array\n",
    "import os\n"
   ]
  },
  {
   "cell_type": "code",
   "execution_count": 2,
   "id": "ef492b30",
   "metadata": {},
   "outputs": [],
   "source": [
    "np.set_printoptions(threshold=np. inf)\n",
    "np.seterr(invalid='ignore') # ignore dividing by zero or infinity\n",
    "B_RED = 2 # red band number\n",
    "B_NIR = 3 # nir band number\n"
   ]
  },
  {
   "cell_type": "code",
   "execution_count": 3,
   "id": "75026211",
   "metadata": {},
   "outputs": [],
   "source": [
    "folder_path = 'C:/Users/sci/Desktop/images' # main folder where data stored\n",
    "crops = os.listdir(folder_path) # get crops names within the folder\n",
    "barley = crops[0] # assign names of crops as a variable\n",
    "soya = crops[1]\n",
    "wheat = crops[2]"
   ]
  },
  {
   "cell_type": "code",
   "execution_count": 4,
   "id": "c0e0356d",
   "metadata": {},
   "outputs": [],
   "source": [
    "def create_field_images(folder_path:str,crop_name:str,field)-> []:\n",
    "    \"\"\"Создает список изобрежении,то есть tiff файлов из каталога поле\n",
    "        Вход: корневой каталог,имя культуры и имя поле. \n",
    "        Выход: список снимоков в указонном катологе т.е для \n",
    "        указанного поля\n",
    "    \"\"\"\n",
    "    \n",
    "    return  [f for f in os.listdir(folder_path +'/' + crop_name + '/' + field) if f.endswith('.tif')]# creating list of tif images "
   ]
  },
  {
   "cell_type": "code",
   "execution_count": 5,
   "id": "f3f9d48c",
   "metadata": {},
   "outputs": [],
   "source": [
    "def calculate_ndvi_for_image(dataset):\n",
    "    \"\"\"\n",
    "    Загружает изоброжение по указаноому пути и возращает посчитанный NDVI\n",
    "    Вход: Open a GDAL dataset (gdal.Open)\n",
    "    Выход: массив ndvi\n",
    "    \n",
    "    \"\"\"\n",
    "    image_datatype = dataset.GetRasterBand(1).DataType\n",
    "    image = np.zeros((dataset.RasterYSize, dataset.RasterXSize, dataset.RasterCount),\n",
    "                 dtype=gdal_array.GDALTypeCodeToNumericTypeCode(image_datatype))\n",
    "    for b in range(dataset.RasterCount): # Loop over all bands in dataset\n",
    "        band = dataset.GetRasterBand(b + 1) # Remember, GDAL index is on 1, but Python is on 0 -- so we add 1 for our GDAL calls\n",
    "        image[:, :, b] = band.ReadAsArray() # Read in the band's data into the third dimension of our array\n",
    "        \n",
    "        ndvi = (image[:, :, B_NIR] - image[:, :, B_RED]) / \\\n",
    "                (image[:, :, B_NIR] + image[:, :, B_RED]).astype(np.float64)\n",
    "\n",
    "        C=(ndvi[~np.isnan(ndvi)])\n",
    "        \n",
    "    return C"
   ]
  },
  {
   "cell_type": "code",
   "execution_count": 18,
   "id": "23104c58",
   "metadata": {},
   "outputs": [],
   "source": [
    "# Open a GDAL dataset\n",
    "def calculate_ndvi_for_crop(crop_name:str):\n",
    "    fields = os.listdir(folder_path +'/' + crop_name )\n",
    "    field_images = []\n",
    "    df = pd.DataFrame(columns = ['field','max_ndvi','mean_ndvi','median_ndvi','min_ndvi','st_dev_ndvi','date','image'])\n",
    "    for field in fields:\n",
    "        field_images = create_field_images(folder_path, crop_name, field)\n",
    "        for field_image in field_images:\n",
    "            dataset = gdal.Open(folder_path +'/' + crop_name + '/' + field + '/' + field_image, gdal.GA_ReadOnly)\n",
    "            C = calculate_ndvi_for_image(dataset)\n",
    "            print(f'appending ndvi values for {field_image} image.Crop {crop_name}.field--{field}')\n",
    "            new_row = {'field':field_image[11:-4],'max_ndvi':C.max(),'mean_ndvi':C.mean()\n",
    "                            ,'median_ndvi':np.median(C),'min_ndvi':C.min(),'st_dev_ndvi':C.std(),\n",
    "                            'date':field_image[:10],'image':field_image}\n",
    "            df= df.append(new_row, ignore_index=True) \n",
    "    return  df"
   ]
  },
  {
   "cell_type": "code",
   "execution_count": 19,
   "id": "4340b604",
   "metadata": {},
   "outputs": [],
   "source": [
    "def export_ndvi_values(crops: []):\n",
    "    \"\"\"Записавает значения ndvi в одтельные exel файлы по каждой культуре\n",
    "        вход: список культур\n",
    "    \"\"\"\n",
    "    for crop_name in crops:\n",
    "        excelname = f'{crop_name}_ndvi_values.xlsx'\n",
    "        crop_df = calculate_ndvi_for_crop(crop_name)\n",
    "        print(f'Saving excel file with ndvi values for crop {crop_name}')\n",
    "        crop_df.to_excel(excelname)\n",
    "    return print(f'Exel Files Saved in {os.getcwd()}')"
   ]
  },
  {
   "cell_type": "code",
   "execution_count": 20,
   "id": "815e0f33",
   "metadata": {},
   "outputs": [
    {
     "name": "stdout",
     "output_type": "stream",
     "text": [
      "appending ndvi values for 07-05-2020_2-3.tif image.Crop barley.field--2_3_114,7\n",
      "appending ndvi values for 09-05-2020_2-3.tif image.Crop barley.field--2_3_114,7\n",
      "appending ndvi values for 11-09-2020_2-3.tif image.Crop barley.field--2_3_114,7\n",
      "appending ndvi values for 14-05-2020_2-3.tif image.Crop barley.field--2_3_114,7\n",
      "appending ndvi values for 16-07-2020_2-3.tif image.Crop barley.field--2_3_114,7\n",
      "appending ndvi values for 23-06-2020_2-3.tif image.Crop barley.field--2_3_114,7\n",
      "appending ndvi values for 26-06-2020_2-3.tif image.Crop barley.field--2_3_114,7\n",
      "appending ndvi values for 29-05-2020_2-3.tif image.Crop barley.field--2_3_114,7\n",
      "appending ndvi values for 07-05-2020_4-3-2.tif image.Crop barley.field--4_3_2_63.3\n",
      "appending ndvi values for 09-05-2020_4-3-2.tif image.Crop barley.field--4_3_2_63.3\n",
      "appending ndvi values for 11-09-2020_4-3-2.tif image.Crop barley.field--4_3_2_63.3\n",
      "appending ndvi values for 14-05-2020_4-3-2.tif image.Crop barley.field--4_3_2_63.3\n",
      "appending ndvi values for 16-07-2020_4-3-2.tif image.Crop barley.field--4_3_2_63.3\n",
      "appending ndvi values for 23-06-2020_4-3-2.tif image.Crop barley.field--4_3_2_63.3\n",
      "appending ndvi values for 26-06-2020_4-3-2.tif image.Crop barley.field--4_3_2_63.3\n",
      "appending ndvi values for 29-05-2020_4-3-2.tif image.Crop barley.field--4_3_2_63.3\n",
      "appending ndvi values for 07-05-2020_5-3-1.tif image.Crop barley.field--5_3_1_60.6\n",
      "appending ndvi values for 09-05-2020_5-3-1.tif image.Crop barley.field--5_3_1_60.6\n",
      "appending ndvi values for 11-09-2020_5-3-1.tif image.Crop barley.field--5_3_1_60.6\n",
      "appending ndvi values for 14-05-2020_5-3-1.tif image.Crop barley.field--5_3_1_60.6\n",
      "appending ndvi values for 16-07-2020_5-3-1.tif image.Crop barley.field--5_3_1_60.6\n",
      "appending ndvi values for 23-06-2020_5-3-1.tif image.Crop barley.field--5_3_1_60.6\n",
      "appending ndvi values for 26-06-2020_5-3-1.tif image.Crop barley.field--5_3_1_60.6\n",
      "appending ndvi values for 29-05-2020_5-3-1.tif image.Crop barley.field--5_3_1_60.6\n",
      "Saving excel file with ndvi values for crop barley\n",
      "appending ndvi values for 07-05-2020_120,3.tif image.Crop soya.field--7-120,3\n",
      "appending ndvi values for 09-05-2020_120,3.tif image.Crop soya.field--7-120,3\n",
      "appending ndvi values for 11-09-2020_120,3.tif image.Crop soya.field--7-120,3\n",
      "appending ndvi values for 14-05-2020_120,3.tif image.Crop soya.field--7-120,3\n",
      "appending ndvi values for 16-07-2020_120,3.tif image.Crop soya.field--7-120,3\n",
      "appending ndvi values for 23-06-2020_120,3.tif image.Crop soya.field--7-120,3\n",
      "appending ndvi values for 26-06-2020_120,3.tif image.Crop soya.field--7-120,3\n",
      "appending ndvi values for 29-05-2020_120,3.tif image.Crop soya.field--7-120,3\n",
      "Saving excel file with ndvi values for crop soya\n",
      "appending ndvi values for 07-05-2020_1-2.tif image.Crop wheat.field--1_2_110\n",
      "appending ndvi values for 09-05-2020_1-2.tif image.Crop wheat.field--1_2_110\n",
      "appending ndvi values for 11-09-2020_1-2.tif image.Crop wheat.field--1_2_110\n",
      "appending ndvi values for 14-05-2020_1-2.tif image.Crop wheat.field--1_2_110\n",
      "appending ndvi values for 16-07-2020_1-2.tif image.Crop wheat.field--1_2_110\n",
      "appending ndvi values for 23-06-2020_1-2.tif image.Crop wheat.field--1_2_110\n",
      "appending ndvi values for 26-06-2020_1-2.tif image.Crop wheat.field--1_2_110\n",
      "appending ndvi values for 29-05-2020_1-2.tif image.Crop wheat.field--1_2_110\n",
      "appending ndvi values for 07-05-2020_2-2.tif image.Crop wheat.field--2_2_110\n",
      "appending ndvi values for 09-05-2020_2-2.tif image.Crop wheat.field--2_2_110\n",
      "appending ndvi values for 11-09-2020_2-2.tif image.Crop wheat.field--2_2_110\n",
      "appending ndvi values for 14-05-2020_2-2.tif image.Crop wheat.field--2_2_110\n",
      "appending ndvi values for 16-07-2020_2-2.tif image.Crop wheat.field--2_2_110\n",
      "appending ndvi values for 23-06-2020_2-2.tif image.Crop wheat.field--2_2_110\n",
      "appending ndvi values for 26-06-2020_2-2.tif image.Crop wheat.field--2_2_110\n",
      "appending ndvi values for 29-05-2020_2-2.tif image.Crop wheat.field--2_2_110\n",
      "appending ndvi values for 07-05-2020_3-2.tif image.Crop wheat.field--3_2_55\n",
      "appending ndvi values for 09-05-2020_3-2.tif image.Crop wheat.field--3_2_55\n",
      "appending ndvi values for 11-09-2020_3-2.tif image.Crop wheat.field--3_2_55\n",
      "appending ndvi values for 14-05-2020_3-2.tif image.Crop wheat.field--3_2_55\n",
      "appending ndvi values for 16-07-2020_3-2.tif image.Crop wheat.field--3_2_55\n",
      "appending ndvi values for 23-06-2020_3-2.tif image.Crop wheat.field--3_2_55\n",
      "appending ndvi values for 26-06-2020_3-2.tif image.Crop wheat.field--3_2_55\n",
      "appending ndvi values for 29-05-2020_3-2.tif image.Crop wheat.field--3_2_55\n",
      "appending ndvi values for 07-05-2020_7-2.tif image.Crop wheat.field--7_2_114\n",
      "appending ndvi values for 09-05-2020_7-2.tif image.Crop wheat.field--7_2_114\n",
      "appending ndvi values for 11-09-2020_7-2.tif image.Crop wheat.field--7_2_114\n",
      "appending ndvi values for 14-05-2020_7-2.tif image.Crop wheat.field--7_2_114\n",
      "appending ndvi values for 16-07-2020_7-2.tif image.Crop wheat.field--7_2_114\n",
      "appending ndvi values for 23-06-2020_7-2.tif image.Crop wheat.field--7_2_114\n",
      "appending ndvi values for 26-06-2020_7-2.tif image.Crop wheat.field--7_2_114\n",
      "appending ndvi values for 29-05-2020_7-2.tif image.Crop wheat.field--7_2_114\n",
      "appending ndvi values for 07-05-2020_8-2.tif image.Crop wheat.field--8_2_130\n",
      "appending ndvi values for 09-05-2020_8-2.tif image.Crop wheat.field--8_2_130\n",
      "appending ndvi values for 11-09-2020_8-2.tif image.Crop wheat.field--8_2_130\n",
      "appending ndvi values for 14-05-2020_8-2.tif image.Crop wheat.field--8_2_130\n",
      "appending ndvi values for 16-07-2020_8-2.tif image.Crop wheat.field--8_2_130\n",
      "appending ndvi values for 23-06-2020_8-2.tif image.Crop wheat.field--8_2_130\n",
      "appending ndvi values for 26-06-2020_8-2.tif image.Crop wheat.field--8_2_130\n",
      "appending ndvi values for 29-05-2020_8-2.tif image.Crop wheat.field--8_2_130\n",
      "Saving excel file with ndvi values for crop wheat\n",
      "Exel Files Saved in C:\\Users\\sci\n"
     ]
    }
   ],
   "source": [
    "export_ndvi_values(crops)"
   ]
  },
  {
   "cell_type": "code",
   "execution_count": null,
   "id": "61bd7a78",
   "metadata": {},
   "outputs": [],
   "source": []
  }
 ],
 "metadata": {
  "kernelspec": {
   "display_name": "Python 3",
   "language": "python",
   "name": "python3"
  },
  "language_info": {
   "codemirror_mode": {
    "name": "ipython",
    "version": 3
   },
   "file_extension": ".py",
   "mimetype": "text/x-python",
   "name": "python",
   "nbconvert_exporter": "python",
   "pygments_lexer": "ipython3",
   "version": "3.7.0"
  }
 },
 "nbformat": 4,
 "nbformat_minor": 5
}
